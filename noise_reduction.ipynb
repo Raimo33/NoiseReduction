{
 "cells": [
  {
   "cell_type": "markdown",
   "metadata": {},
   "source": [
    "\n",
    "# Basic Noise Cancelling Program\n",
    "\n"
   ]
  },
  {
   "cell_type": "code",
   "execution_count": 1,
   "metadata": {},
   "outputs": [],
   "source": [
    "import os\n",
    "\n",
    "if not os.path.exists('./tmp'):\n",
    "\tos.makedirs('./tmp')"
   ]
  },
  {
   "cell_type": "code",
   "execution_count": 2,
   "metadata": {},
   "outputs": [],
   "source": [
    "from pytube import YouTube\n",
    "\n",
    "def download_audio_from_youtube(url, filename, dest='./tmp'):\n",
    "\tyt = YouTube(url)\n",
    "\tstream = yt.streams.filter(only_audio=True).first()\n",
    "\tstream.download(output_path=dest, filename=filename)"
   ]
  },
  {
   "cell_type": "code",
   "execution_count": 3,
   "metadata": {},
   "outputs": [],
   "source": [
    "noise_video_url = 'https://www.youtube.com/watch?v=FeOrG8FrNko'\n",
    "clean_video_url = 'https://www.youtube.com/watch?v=FJVcGMcEw7Q'\n",
    "\n",
    "download_audio_from_youtube(noise_video_url, 'noise')\n",
    "download_audio_from_youtube(clean_video_url, 'clean')"
   ]
  },
  {
   "cell_type": "code",
   "execution_count": 4,
   "metadata": {},
   "outputs": [],
   "source": [
    "from pydub import AudioSegment\n",
    "\n",
    "def clamp_audios(audio1_path, audio2_path):\n",
    "\taudio1 = AudioSegment.from_file(audio1_path)\n",
    "\taudio2 = AudioSegment.from_file(audio2_path)\n",
    "\tprint('Durations before(s): ', len(audio1), len(audio2))\n",
    "\tshortest_duration = min(len(audio1), len(audio2))\n",
    "\taudio1 = audio1[:shortest_duration]\n",
    "\taudio2 = audio2[:shortest_duration]\n",
    "\tprint('Durations after(s): ', len(audio1), len(audio2))\n",
    "\treturn audio1, audio2"
   ]
  },
  {
   "cell_type": "code",
   "execution_count": 5,
   "metadata": {},
   "outputs": [],
   "source": [
    "def normalize_volume(audio1, audio2):\n",
    "\tprint(\"Volumes before(dBFS): \", audio1.dBFS, audio2.dBFS)\n",
    "\ttarget_dbfs = -20\n",
    "\tgain1 = target_dbfs - audio1.dBFS\n",
    "\tgain2 = target_dbfs - audio2.dBFS\n",
    "\taudio1 = audio1.apply_gain(gain1)\n",
    "\taudio2 = audio2.apply_gain(gain2)\n",
    "\tprint(\"Volumes after(dBFS): \", audio1.dBFS, audio2.dBFS)\n",
    "\treturn audio1, audio2"
   ]
  },
  {
   "cell_type": "code",
   "execution_count": 6,
   "metadata": {},
   "outputs": [
    {
     "name": "stdout",
     "output_type": "stream",
     "text": [
      "Durations before(s):  60372 2331423\n",
      "Durations after(s):  60372 60372\n",
      "Volumes before(dBFS):  -9.82339117825276 -19.88362118722665\n",
      "Volumes after(dBFS):  -20.00212083742674 -19.99946987154684\n"
     ]
    }
   ],
   "source": [
    "noise_path = './tmp/noise'\n",
    "clean_path = './tmp/clean'\n",
    "\n",
    "noise, clean = clamp_audios(noise_path, clean_path)\n",
    "noise, clean = normalize_volume(noise, clean)"
   ]
  },
  {
   "cell_type": "code",
   "execution_count": 7,
   "metadata": {},
   "outputs": [
    {
     "data": {
      "text/plain": [
       "<_io.BufferedRandom name='./tmp/combined.wav'>"
      ]
     },
     "execution_count": 7,
     "metadata": {},
     "output_type": "execute_result"
    }
   ],
   "source": [
    "combined = noise.overlay(clean)\n",
    "combined.export('./tmp/combined.wav', format='wav')"
   ]
  }
 ],
 "metadata": {
  "kernelspec": {
   "display_name": ".venv",
   "language": "python",
   "name": "python3"
  },
  "language_info": {
   "codemirror_mode": {
    "name": "ipython",
    "version": 3
   },
   "file_extension": ".py",
   "mimetype": "text/x-python",
   "name": "python",
   "nbconvert_exporter": "python",
   "pygments_lexer": "ipython3",
   "version": "3.8.10"
  }
 },
 "nbformat": 4,
 "nbformat_minor": 2
}
